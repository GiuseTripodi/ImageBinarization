{
 "cells": [
  {
   "cell_type": "code",
   "execution_count": 1,
   "outputs": [
    {
     "ename": "ModuleNotFoundError",
     "evalue": "No module named 'skimage'",
     "output_type": "error",
     "traceback": [
      "\u001B[0;31m---------------------------------------------------------------------------\u001B[0m",
      "\u001B[0;31mModuleNotFoundError\u001B[0m                       Traceback (most recent call last)",
      "Input \u001B[0;32mIn [1]\u001B[0m, in \u001B[0;36m<cell line: 7>\u001B[0;34m()\u001B[0m\n\u001B[1;32m      5\u001B[0m \u001B[38;5;28;01mimport\u001B[39;00m \u001B[38;5;21;01mpickle\u001B[39;00m\n\u001B[1;32m      6\u001B[0m \u001B[38;5;28;01mimport\u001B[39;00m \u001B[38;5;21;01mmatplotlib\u001B[39;00m\u001B[38;5;21;01m.\u001B[39;00m\u001B[38;5;21;01mpyplot\u001B[39;00m \u001B[38;5;28;01mas\u001B[39;00m \u001B[38;5;21;01mplt\u001B[39;00m\n\u001B[0;32m----> 7\u001B[0m \u001B[38;5;28;01mfrom\u001B[39;00m \u001B[38;5;21;01mbinarization\u001B[39;00m\u001B[38;5;21;01m.\u001B[39;00m\u001B[38;5;21;01mbinarization_functions\u001B[39;00m \u001B[38;5;28;01mimport\u001B[39;00m Binarizator\n\u001B[1;32m      8\u001B[0m \u001B[38;5;28;01mfrom\u001B[39;00m \u001B[38;5;21;01mbinarization\u001B[39;00m\u001B[38;5;21;01m.\u001B[39;00m\u001B[38;5;21;01mevaluation_measure\u001B[39;00m \u001B[38;5;28;01mimport\u001B[39;00m Measure\n\u001B[1;32m      9\u001B[0m \u001B[38;5;28;01mfrom\u001B[39;00m \u001B[38;5;21;01mskimage\u001B[39;00m\u001B[38;5;21;01m.\u001B[39;00m\u001B[38;5;21;01mutil\u001B[39;00m \u001B[38;5;28;01mimport\u001B[39;00m img_as_ubyte\n",
      "File \u001B[0;32m~/Scrivania/universita/Magistrale/Document Analysis/Esercizi/Assignment 1/ImageBinarization/binarization/binarization_functions.py:4\u001B[0m, in \u001B[0;36m<module>\u001B[0;34m\u001B[0m\n\u001B[1;32m      2\u001B[0m \u001B[38;5;28;01mimport\u001B[39;00m \u001B[38;5;21;01mnumpy\u001B[39;00m \u001B[38;5;28;01mas\u001B[39;00m \u001B[38;5;21;01mnp\u001B[39;00m\n\u001B[1;32m      3\u001B[0m \u001B[38;5;28;01mimport\u001B[39;00m \u001B[38;5;21;01mcv2\u001B[39;00m\n\u001B[0;32m----> 4\u001B[0m \u001B[38;5;28;01mfrom\u001B[39;00m \u001B[38;5;21;01mskimage\u001B[39;00m\u001B[38;5;21;01m.\u001B[39;00m\u001B[38;5;21;01mutil\u001B[39;00m \u001B[38;5;28;01mimport\u001B[39;00m img_as_ubyte\n\u001B[1;32m      7\u001B[0m \u001B[38;5;28;01mclass\u001B[39;00m \u001B[38;5;21;01mBinarizator\u001B[39;00m:\n\u001B[1;32m      8\u001B[0m     \u001B[38;5;28;01mdef\u001B[39;00m \u001B[38;5;21m__init__\u001B[39m(\u001B[38;5;28mself\u001B[39m, img, window, \u001B[38;5;28mid\u001B[39m):\n",
      "\u001B[0;31mModuleNotFoundError\u001B[0m: No module named 'skimage'"
     ]
    }
   ],
   "source": [
    "import os\n",
    "from matplotlib import image\n",
    "import numpy as np\n",
    "import cv2\n",
    "import pickle\n",
    "import matplotlib.pyplot as plt\n",
    "from binarization.binarization_functions import Binarizator\n",
    "from binarization.evaluation_measure import Measure\n",
    "from skimage.util import img_as_ubyte\n",
    "from skimage.util import img_as_float32"
   ],
   "metadata": {
    "collapsed": false,
    "pycharm": {
     "name": "#%%\n"
    }
   }
  },
  {
   "cell_type": "markdown",
   "source": [
    "<h1>Comparation </h1>\n",
    "I am going to compare the implemented binarization method with the Otsu Binarization Method."
   ],
   "metadata": {
    "collapsed": false,
    "pycharm": {
     "name": "#%% md\n"
    }
   }
  },
  {
   "cell_type": "code",
   "execution_count": null,
   "outputs": [],
   "source": [
    "#load images\n",
    "path = \"../Data/ue1\"\n",
    "photo_name = \"F2s.png\"\n",
    "#get all the file in the directory\n",
    "arr = os.listdir(path)\n",
    "dir = [file for file in arr if os.path.isdir(os.path.join(path, file)) ]\n",
    "\n",
    "img = {}\n",
    "gt_img = {}\n",
    "\n",
    "for i in range(0, len(dir)-1):\n",
    "    img[dir[i]] = image.imread(os.path.join(path,dir[i], photo_name))\n",
    "    #img[i] = cv2.imread(os.path.join(path,dir[i], photo_name), cv2.IMREAD_GRAYSCALE)\n",
    "    gt_img[dir[i]] = image.imread(os.path.join(path,dir[i], f\"{dir[i]}GT.png\"))\n",
    "\n",
    "#plot the images\n",
    "plt.figure(figsize=(15, 15))\n",
    "for j in range(len(dir)-1):\n",
    "    ax = plt.subplot(3, 3, j + 1)\n",
    "    plt.imshow(img[dir[j]], cmap=\"gray\")\n",
    "    plt.title(dir[j])\n",
    "    plt.axis(\"off\")"
   ],
   "metadata": {
    "collapsed": false,
    "pycharm": {
     "name": "#%%\n"
    }
   }
  },
  {
   "cell_type": "markdown",
   "source": [
    "<h2>Implemented Binarization Method</h2>"
   ],
   "metadata": {
    "collapsed": false,
    "pycharm": {
     "name": "#%% md\n"
    }
   }
  },
  {
   "cell_type": "code",
   "execution_count": null,
   "outputs": [],
   "source": [
    "window = 3\n",
    "path = \"../object\"\n",
    "binarizators = {}\n",
    "for i in img.keys():\n",
    "    print(f\"Image: {i}\")\n",
    "    if os.path.isfile(os.path.join(path, i)):\n",
    "        #if the binarizator on the image already exist\n",
    "        print(f\"file {os.path.join(path, i)} present\")\n",
    "        with open(os.path.join(path, i), \"rb\") as binarizator_file:\n",
    "            bin = pickle.load(binarizator_file)\n",
    "\n",
    "    #the file does not exist\n",
    "    else:\n",
    "        print(f\"file {os.path.join(path, i)} NOT present\")\n",
    "        bin = Binarizator(img[i], window, i)\n",
    "        #do the binarization\n",
    "        bin.contrast_image_constructor()\n",
    "        bin.high_contrast_image()\n",
    "        bin.pixels_classification()\n",
    "\n",
    "        #load on file the binarizator\n",
    "        with open(os.path.join(path, i), \"wb\") as file:\n",
    "            pickle.dump(bin, file)\n",
    "    binarizators[i] = bin"
   ],
   "metadata": {
    "collapsed": false,
    "pycharm": {
     "name": "#%%\n"
    }
   }
  },
  {
   "cell_type": "code",
   "execution_count": null,
   "outputs": [],
   "source": [
    "#plot the images\n",
    "plt.figure(figsize=(15, 15))\n",
    "i = 0\n",
    "for j in img.keys():\n",
    "    ax = plt.subplot(3, 3, i + 1)\n",
    "    plt.imshow(binarizators[j].get_final_image(), cmap=\"gray\")\n",
    "    plt.title(binarizators[j].getID())\n",
    "    plt.axis(\"off\")\n",
    "    i+= 1"
   ],
   "metadata": {
    "collapsed": false,
    "pycharm": {
     "name": "#%%\n"
    }
   }
  },
  {
   "cell_type": "markdown",
   "source": [
    "<h2>Otsu Tecnique</h2>"
   ],
   "metadata": {
    "collapsed": false,
    "pycharm": {
     "name": "#%% md\n"
    }
   }
  },
  {
   "cell_type": "code",
   "execution_count": null,
   "outputs": [],
   "source": [
    "output_otsu = {}\n",
    "for i in img.keys():\n",
    "    image = img_as_ubyte(img[i])\n",
    "    ret, thresh = cv2.threshold(image, 0, 1, cv2.THRESH_BINARY + cv2.THRESH_OTSU )\n",
    "    output_otsu[i] = thresh\n",
    "output_otsu[\"z592\"]"
   ],
   "metadata": {
    "collapsed": false,
    "pycharm": {
     "name": "#%%\n"
    }
   }
  },
  {
   "cell_type": "code",
   "execution_count": null,
   "outputs": [],
   "source": [
    "#plot the images\n",
    "i = 0\n",
    "plt.figure(figsize=(15, 15))\n",
    "for j in output_otsu.keys():\n",
    "    ax = plt.subplot(3, 3, i + 1)\n",
    "    plt.imshow(output_otsu[j], cmap=\"gray\")\n",
    "    plt.title(j)\n",
    "    plt.axis(\"off\")\n",
    "    i += 1"
   ],
   "metadata": {
    "collapsed": false,
    "pycharm": {
     "name": "#%%\n"
    }
   }
  },
  {
   "cell_type": "markdown",
   "source": [
    "<h2>Compute the measure</h2>\n",
    "\n",
    "I will compute the avarage value of the following measures for every image:\n",
    "- F-measure\n",
    "- pF-measure\n",
    "- PSNR (Peak Signal-to-noise ratio)\n",
    "- DRD (Distance-Reciprocal Distortion Measure)\n"
   ],
   "metadata": {
    "collapsed": false,
    "pycharm": {
     "name": "#%% md\n"
    }
   }
  },
  {
   "cell_type": "code",
   "execution_count": null,
   "outputs": [],
   "source": [
    "#f_measure\n",
    "f_measure = 0\n",
    "f_measure_otsu = 0\n",
    "\n",
    "#p_f_measure\n",
    "pf_measure = 0\n",
    "pf_measure_otsu = 0\n",
    "\n",
    "#PSNR\n",
    "psnr = 0\n",
    "psnr_otsu = 0\n",
    "\n",
    "#DRD\n",
    "drd = 0\n",
    "drd_otsu = 0"
   ],
   "metadata": {
    "collapsed": false,
    "pycharm": {
     "name": "#%%\n"
    }
   }
  },
  {
   "cell_type": "code",
   "execution_count": null,
   "outputs": [],
   "source": [
    "path = \"../measures\"\n",
    "for i in binarizators.keys():\n",
    "    print(f\"image: {i}\")\n",
    "    if os.path.isfile(os.path.join(path, i)):\n",
    "        #if the binarizator on the image already exist\n",
    "        print(f\"file {os.path.join(path, i)} present\")\n",
    "        with open(os.path.join(path, i), \"rb\") as file:\n",
    "            m = pickle.load(file)\n",
    "\n",
    "    #the file does not exist\n",
    "    else:\n",
    "        print(f\"file {os.path.join(path, i)} NOT present\")\n",
    "        m = Measure(binarizators[i].get_final_image(), gt_img[i])\n",
    "        m.f_measure()\n",
    "        m.p_f_measure()\n",
    "        m.psnr()\n",
    "        m.drd()\n",
    "\n",
    "        #load on file\n",
    "        with open(os.path.join(path, i), \"wb\") as file:\n",
    "            pickle.dump(m, file)\n",
    "\n",
    "    f_measure += m.getFmeasure()\n",
    "    pf_measure += m.getPFmeasure()\n",
    "    psnr += m.getPSNR()\n",
    "    drd += m.getDRD()\n",
    "\n",
    "f_measure /= len(binarizators)\n",
    "pf_measure /= len(binarizators)\n",
    "psnr /= len(binarizators)\n",
    "drd /= len(binarizators) "
   ],
   "metadata": {
    "collapsed": false,
    "pycharm": {
     "name": "#%%\n"
    }
   }
  },
  {
   "cell_type": "code",
   "execution_count": null,
   "outputs": [],
   "source": [
    "for i in output_otsu.keys():\n",
    "    #otsu\n",
    "    print(f\"image: {i}\")\n",
    "    file_name = i + \"_otsu\"\n",
    "    if os.path.isfile(os.path.join(path, file_name)):\n",
    "        #if the binarizator on the image already exist\n",
    "        print(f\"file {os.path.join(path,file_name )} present\")\n",
    "        with open(os.path.join(path, file_name), \"rb\") as file:\n",
    "            m_otsu = pickle.load(file)\n",
    "\n",
    "    #the file does not exist\n",
    "    else:\n",
    "        print(f\"file {os.path.join(path, file_name)} NOT present\")\n",
    "        m_otsu = Measure(output_otsu[i], gt_img[i])\n",
    "        m_otsu.f_measure()\n",
    "        m_otsu.p_f_measure()\n",
    "        m_otsu.psnr()\n",
    "        m_otsu.drd()\n",
    "\n",
    "        #load on file\n",
    "        with open(os.path.join(path, file_name), \"wb\") as file:\n",
    "            pickle.dump(m_otsu, file)\n",
    "\n",
    "    f_measure_otsu += m_otsu.getFmeasure()\n",
    "    pf_measure_otsu += m_otsu.getPFmeasure()\n",
    "    psnr_otsu += m_otsu.getPSNR()\n",
    "    drd_otsu += m_otsu.getDRD()\n",
    "\n",
    "f_measure_otsu /= len(output_otsu)\n",
    "pf_measure_otsu /= len(output_otsu)\n",
    "psnr_otsu /= len(output_otsu)\n",
    "drd_otsu /= len(output_otsu)\n"
   ],
   "metadata": {
    "collapsed": false,
    "pycharm": {
     "name": "#%%\n"
    }
   }
  },
  {
   "cell_type": "code",
   "execution_count": null,
   "outputs": [],
   "source": [
    "#print measures\n",
    "print(f\"f measure: {f_measure}\")\n",
    "print(f\"Pf measure: {pf_measure}\")\n",
    "print(f\"PSNR: {psnr}\")\n",
    "print(f\"DRD: {drd} \\n\")\n",
    "\n",
    "print(f\"Otsu measure\")\n",
    "print(f\"f measure: {f_measure_otsu}\")\n",
    "print(f\"Pf measure: {pf_measure_otsu}\")\n",
    "print(f\"PSNR: {psnr_otsu}\")\n",
    "print(f\"DRD: {drd_otsu} \\n\")"
   ],
   "metadata": {
    "collapsed": false,
    "pycharm": {
     "name": "#%%\n"
    }
   }
  }
 ],
 "metadata": {
  "kernelspec": {
   "display_name": "Python 3",
   "language": "python",
   "name": "python3"
  },
  "language_info": {
   "codemirror_mode": {
    "name": "ipython",
    "version": 2
   },
   "file_extension": ".py",
   "mimetype": "text/x-python",
   "name": "python",
   "nbconvert_exporter": "python",
   "pygments_lexer": "ipython2",
   "version": "2.7.6"
  }
 },
 "nbformat": 4,
 "nbformat_minor": 0
}